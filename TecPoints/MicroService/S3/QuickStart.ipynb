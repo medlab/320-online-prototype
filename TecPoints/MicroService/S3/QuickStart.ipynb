{
 "metadata": {
  "kernelspec": {
   "display_name": ".NET (C#)",
   "language": "C#",
   "name": ".net-csharp"
  },
  "language_info": {
   "name": "C#"
  }
 },
 "cells": [
  {
   "cell_type": "markdown",
   "source": [
    "# 操作前提\n",
    "\n",
    "安装和部署MinIO请参考README.md"
   ],
   "metadata": {}
  },
  {
   "cell_type": "markdown",
   "source": [
    "## 安装Nuget包"
   ],
   "metadata": {}
  },
  {
   "cell_type": "code",
   "execution_count": null,
   "source": [
    "#r \"nuget: AWSSDK.S3, 3.7.1.21\""
   ],
   "outputs": [
    {
     "data": {
      "text/html": [
       "<div><div></div><div></div><div><strong>Installed Packages</strong><ul><li><span>AWSSDK.S3, 3.7.1.21</span></li></ul></div></div>"
      ]
     },
     "metadata": {},
     "output_type": "display_data"
    }
   ],
   "metadata": {
    "dotnet_interactive": {
     "language": "csharp"
    }
   }
  },
  {
   "cell_type": "markdown",
   "source": [
    "## 导入命名空间"
   ],
   "metadata": {}
  },
  {
   "cell_type": "code",
   "execution_count": null,
   "source": [
    "using System;\n",
    "using System.Threading.Tasks;\n",
    "using Amazon;\n",
    "using Amazon.Util;\n",
    "using Amazon.S3;\n",
    "using Amazon.S3.Model;\n",
    "using Amazon.S3.Util;\n",
    "using System.IO;\n"
   ],
   "outputs": [],
   "metadata": {
    "dotnet_interactive": {
     "language": "csharp"
    }
   }
  },
  {
   "cell_type": "markdown",
   "source": [
    "## 确认访问信息\n",
    "\n",
    "1. 服务器地址在docker-compose可知\n",
    "2. 管理门户地址在docker-compose可知\n",
    "3. 管理员用户名和密码在docker-compose.yaml中可知\n",
    "3. 访问Key、密码Key可在管理门户里面申请\n",
    "\n"
   ],
   "metadata": {}
  },
  {
   "cell_type": "markdown",
   "source": [
    "## 0. 公共定义和准备"
   ],
   "metadata": {
    "dotnet_interactive": {
     "language": "csharp"
    }
   }
  },
  {
   "cell_type": "code",
   "execution_count": null,
   "source": [
    "//REF: https://docs.aws.amazon.com/sdkfornet/v3/apidocs/items/Amazon/TRegionEndpoint.html\n",
    "//why?\n",
    "var regionEndpoint=RegionEndpoint.USEast1;\n",
    "var serviceURL = \"http://localhost:9000\";\n",
    "\n",
    "//TIPS: you may need use your own accessKey and secretKey which can get from http://127.0.0.1:9001/account\n",
    "// var accessKey = \"ASPSJQ1AJTTNGUXVBTWW\";\n",
    "// var secretKey = \"Dvaq2QFhCWDgM+SxE9GXAd0ZqW8LSQoKNG0Ouwqh\"; // do not store secret key hardcoded in your production source code!\n",
    "\n",
    "var accessKey = \"minio\";\n",
    "var secretKey = \"minio123\"; // do not store secret key hardcoded in your production source code!\n",
    "\n",
    "\n",
    "\n",
    "var bucketName= \"mytestbucket\";\n",
    "\n",
    "var config = new AmazonS3Config\n",
    "    {\n",
    "        RegionEndpoint = regionEndpoint, // MUST set this before setting ServiceURL and it should match the `MINIO_REGION` environment variable.\n",
    "        ServiceURL = serviceURL, // replace http://localhost:9000 with URL of your MinIO server\n",
    "        ForcePathStyle = true // MUST be true to work correctly with MinIO server\n",
    "    };\n",
    "\n",
    "//关于自动配置，可以参考 https://docs.aws.amazon.com/sdkfornet1/latest/apidocs/html/M_Amazon_S3_AmazonS3Client__ctor.htm\n",
    "var amazonS3Client = new AmazonS3Client(accessKey, secretKey, config);\n"
   ],
   "outputs": [],
   "metadata": {
    "dotnet_interactive": {
     "language": "csharp"
    }
   }
  },
  {
   "cell_type": "code",
   "execution_count": null,
   "source": [
    "//remove bucket if needed\n",
    "//amazonS3Client.DeleteBucket(bucketName);\n",
    "if(await AmazonS3Util.DoesS3BucketExistAsync(amazonS3Client, bucketName)){\n",
    "    Console.WriteLine($\"try to delete bucket {bucketName}\");\n",
    "    await AmazonS3Util.DeleteS3BucketWithObjectsAsync(amazonS3Client, bucketName);\n",
    "}\n",
    "else\n",
    "{\n",
    "    Console.WriteLine($\"bucket:{bucketName} does not exist\");\n",
    "}\n"
   ],
   "outputs": [
    {
     "output_type": "stream",
     "name": "stdout",
     "text": [
      "bucket:mytestbucket does not exist\n"
     ]
    }
   ],
   "metadata": {
    "dotnet_interactive": {
     "language": "csharp"
    }
   }
  },
  {
   "cell_type": "markdown",
   "source": [
    "\n",
    "## 1. create bucket"
   ],
   "metadata": {
    "dotnet_interactive": {
     "language": "csharp"
    }
   }
  },
  {
   "cell_type": "code",
   "execution_count": null,
   "source": [
    "if (!(await AmazonS3Util.DoesS3BucketExistAsync(amazonS3Client, bucketName)))\n",
    "{\n",
    "    Console.WriteLine($\"Bucket:{bucketName} does not exists, try to create one\");\n",
    "    var putBucketRequest = new PutBucketRequest\n",
    "    {\n",
    "        BucketName = bucketName,\n",
    "        UseClientRegion = true\n",
    "    };\n",
    "\n",
    "    PutBucketResponse putBucketResponse = await amazonS3Client.PutBucketAsync(putBucketRequest);\n",
    "}\n",
    "else\n",
    "{\n",
    "    Console.WriteLine(\"Bucket already exists\");\n",
    "}\n",
    "// Retrieve the bucket location."
   ],
   "outputs": [
    {
     "output_type": "stream",
     "name": "stdout",
     "text": [
      "Bucket:mytestbucket does not exists, try to create one\n"
     ]
    }
   ],
   "metadata": {
    "dotnet_interactive": {
     "language": "csharp"
    }
   }
  },
  {
   "cell_type": "markdown",
   "source": [
    "\n",
    "## 2. create object"
   ],
   "metadata": {
    "dotnet_interactive": {
     "language": "csharp"
    }
   }
  },
  {
   "cell_type": "markdown",
   "source": [
    "how to check succ or not?\n",
    "\n",
    "\"To ensure an object is not corrupted over the network, you can calculate the MD5 of an object, PUT it to Amazon S3, and compare the returned Etag to the calculated MD5 value.\"\n",
    "\n",
    "ref: [amazon-s3-putobject-return-value-to-confirm-success](https://stackoverflow.com/questions/12454305/amazon-s3-putobject-return-value-to-confirm-success/12454592)"
   ],
   "metadata": {}
  },
  {
   "cell_type": "code",
   "execution_count": null,
   "source": [
    "// Warning: it seems AWS S3 & MINIO does not follow the same ETag format. especialy,\n",
    "// 1. MINIO use low-case ETag.\n",
    "// 2. MINIO ETag does not base64 encode.\n",
    "\n",
    "// 1. Put object-specify only key name for the new object.\n",
    "var content1=\"sample text 1\"+DateTime.Now.ToString();\n",
    "var content1_md5=AmazonS3Util.GenerateChecksumForContent(content1,false);\n",
    "var putRequest1 = new PutObjectRequest\n",
    "{\n",
    "    BucketName = bucketName,\n",
    "    Key = \"text_file1.txt\",\n",
    "    ContentBody = content1,    \n",
    "    //ContentBody = content1,\n",
    "};\n",
    "PutObjectResponse response1 = await amazonS3Client.PutObjectAsync(putRequest1);\n",
    "Console.WriteLine($\"MD5: {content1_md5}, ETag: {response1.ETag}\");\n",
    "if(response1.ETag.Trim('\"').ToLower()==content1_md5.ToLower())\n",
    "{\n",
    "    Console.WriteLine(\"put object success\");\n",
    "}\n",
    "else\n",
    "{\n",
    "    Console.WriteLine(\"put object failed\");\n",
    "}\n",
    "\n",
    "\n",
    "// 2. Put the object-set ContentType and add metadata.\n",
    "var content2=\"sample text 3\"+DateTime.Now.ToString();\n",
    "//CryptoUtilFactory.CryptoInstance.\n",
    "var content2_md5=AmazonS3Util.GenerateChecksumForContent(content2,false);\n",
    "File.WriteAllText(@\"text_file2.txt\", content2);\n",
    "var putRequest2 = new PutObjectRequest\n",
    "{\n",
    "    BucketName = bucketName,\n",
    "    Key = \"text_file2.txt\",\n",
    "    FilePath = \"text_file2.txt\",\n",
    "    ContentType = \"text/plain\"\n",
    "};\n",
    "\n",
    "putRequest2.Metadata.Add(\"x-amz-meta-title\", \"someTitle\"+new Random().NextDouble());\n",
    "PutObjectResponse response2 = await amazonS3Client.PutObjectAsync(putRequest2);\n",
    "Console.WriteLine($\"MD5: {content2_md5}, ETag: {response2.ETag}\");\n",
    "if(response2.ETag.Trim('\"').ToLower()==content2_md5.ToLower())\n",
    "{\n",
    "    Console.WriteLine(\"put object success\");\n",
    "}\n",
    "else\n",
    "{\n",
    "    Console.WriteLine(\"put object failed\");\n",
    "}\n",
    "\n",
    "File.Delete(@\"text_file2.txt\");\n",
    "\n",
    "\n",
    "// 3. Put object by stream\n",
    "var content3=\"sample text 1\"+DateTime.Now.ToString();\n",
    "var content3_memory_stream=new MemoryStream(System.Text.Encoding.UTF8.GetBytes(content3));\n",
    "//var content3_md5=AmazonS3Util.GenerateMD5ChecksumForStream(content3_memory_stream);\n",
    "var hashed=CryptoUtilFactory.CryptoInstance.ComputeMD5Hash(content3_memory_stream);\n",
    "var content3_md5=Convert.ToHexString(hashed);\n",
    "content3_memory_stream.Seek(0,SeekOrigin.Begin);\n",
    "var putRequest3 = new PutObjectRequest\n",
    "{\n",
    "    BucketName = bucketName,\n",
    "    Key = \"text_file3.txt\",\n",
    "    InputStream = content3_memory_stream,\n",
    "    ContentType = \"text/plain\"\n",
    "    //ContentBody = content1,\n",
    "};\n",
    "PutObjectResponse response3 = await amazonS3Client.PutObjectAsync(putRequest3);\n",
    "Console.WriteLine($\"MD5: {content3_md5}, ETag: {response3.ETag}\");\n",
    "if(response3.ETag.Trim('\"').ToLower()==content3_md5.ToLower())\n",
    "{\n",
    "    Console.WriteLine(\"put object success\");\n",
    "}\n",
    "else\n",
    "{\n",
    "    Console.WriteLine(\"put object failed\");\n",
    "}\n"
   ],
   "outputs": [
    {
     "output_type": "stream",
     "name": "stdout",
     "text": [
      "MD5: 6890E6F2F57AF72A4230B36114C92FA7, ETag: \"6890e6f2f57af72a4230b36114c92fa7\"\n",
      "put object success\n",
      "MD5: BF8EA3DFA4B3FBA5AD8BE90057833973, ETag: \"bf8ea3dfa4b3fba5ad8be90057833973\"\n",
      "put object success\n",
      "MD5: 6890E6F2F57AF72A4230B36114C92FA7, ETag: \"6890e6f2f57af72a4230b36114c92fa7\"\n",
      "put object success\n"
     ]
    }
   ],
   "metadata": {
    "dotnet_interactive": {
     "language": "csharp"
    }
   }
  },
  {
   "cell_type": "markdown",
   "source": [
    "\n",
    "## 3. list content of all object in all bucket "
   ],
   "metadata": {
    "dotnet_interactive": {
     "language": "csharp"
    }
   }
  },
  {
   "cell_type": "code",
   "execution_count": null,
   "source": [
    "var listBucketResponse = await amazonS3Client.ListBucketsAsync();\n",
    "\n",
    "foreach (var bucket in listBucketResponse.Buckets)\n",
    "{\n",
    "    Console.Out.WriteLine(\"bucket '\" + bucket.BucketName + \"' created at \" + bucket.CreationDate);\n",
    "\n",
    "    var bucketName = bucket.BucketName;\n",
    "\n",
    "    var listObjectsResponse = await amazonS3Client.ListObjectsAsync(bucketName);\n",
    "\n",
    "    foreach (var obj in listObjectsResponse.S3Objects)\n",
    "    {\n",
    "        Console.Out.WriteLine(\"\\t\"+\"key = '\" + obj.Key + \"' | size = \" + obj.Size + \" | tags = '\" + obj.ETag + \"' | modified = \" + obj.LastModified);\n",
    "\n",
    "        GetObjectRequest request = new GetObjectRequest\n",
    "        {\n",
    "            BucketName = bucketName,\n",
    "            Key = obj.Key\n",
    "        };\n",
    "        using (GetObjectResponse response = await amazonS3Client.GetObjectAsync(request))\n",
    "        using (Stream responseStream = response.ResponseStream)\n",
    "        using (StreamReader reader = new StreamReader(responseStream))\n",
    "        {\n",
    "            string title = response.Metadata[\"x-amz-meta-title\"]; // Assume you have \"title\" as medata added to the object.\n",
    "            string contentType = response.Headers[\"Content-Type\"];\n",
    "            Console.WriteLine(\"\\t\\t\"+\"Object metadata, Title: {0}\", title);\n",
    "            Console.WriteLine(\"\\t\\t\"+\"Content type: {0}\", contentType);\n",
    "\n",
    "            var responseBody = reader.ReadToEnd(); // Now you process the response body.\n",
    "            Console.Out.WriteLine(\"\\t\\t\"+\"Content:\"+responseBody);\n",
    "        }\n",
    "\n",
    "    }\n",
    "}"
   ],
   "outputs": [
    {
     "output_type": "stream",
     "name": "stdout",
     "text": [
      "bucket 'mytestbucket' created at 2021/8/10 下午11:47:01\n",
      "\tkey = 'text_file1.txt' | size = 37 | tags = '\"6890e6f2f57af72a4230b36114c92fa7\"' | modified = 2021/8/10 下午11:47:02\n",
      "\t\tObject metadata, Title: \n",
      "\t\tContent type: text/plain\n",
      "\t\tContent:sample text 12021/8/10 下午11:47:02\n",
      "\tkey = 'text_file2.txt' | size = 37 | tags = '\"bf8ea3dfa4b3fba5ad8be90057833973\"' | modified = 2021/8/10 下午11:47:02\n",
      "\t\tObject metadata, Title: someTitle0.9806078304446338\n",
      "\t\tContent type: text/plain\n",
      "\t\tContent:sample text 32021/8/10 下午11:47:02\n",
      "\tkey = 'text_file3.txt' | size = 37 | tags = '\"6890e6f2f57af72a4230b36114c92fa7\"' | modified = 2021/8/10 下午11:47:02\n",
      "\t\tObject metadata, Title: \n",
      "\t\tContent type: text/plain\n",
      "\t\tContent:sample text 12021/8/10 下午11:47:02\n"
     ]
    }
   ],
   "metadata": {
    "dotnet_interactive": {
     "language": "csharp"
    }
   }
  },
  {
   "cell_type": "markdown",
   "source": [
    "## 自由练习区域"
   ],
   "metadata": {}
  },
  {
   "cell_type": "code",
   "execution_count": null,
   "source": [
    "string u=\"Hello World\";\n",
    "string l=\"hello world\";\n",
    "Console.WriteLine($\"u:{u}, l:{l}, eq:{u.ToLower()==l}\");"
   ],
   "outputs": [
    {
     "output_type": "stream",
     "name": "stdout",
     "text": [
      "u:Hello World, l:hello world, eq:True\n"
     ]
    }
   ],
   "metadata": {
    "dotnet_interactive": {
     "language": "csharp"
    }
   }
  },
  {
   "cell_type": "markdown",
   "source": [
    "# 参考\n",
    "1. https://docs.aws.amazon.com/AmazonS3/latest/userguide/Welcome.html\n",
    "2. https://docs.aws.amazon.com/sdkfornet/v3/apidocs/index.html"
   ],
   "metadata": {}
  },
  {
   "cell_type": "markdown",
   "source": [],
   "metadata": {}
  }
 ],
 "nbformat": 4,
 "nbformat_minor": 2
}